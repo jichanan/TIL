{
 "cells": [
  {
   "cell_type": "code",
   "execution_count": 1,
   "metadata": {},
   "outputs": [
    {
     "name": "stderr",
     "output_type": "stream",
     "text": [
      "C:\\Users\\user\\AppData\\Local\\Temp\\ipykernel_8036\\2941916457.py:4: DeprecationWarning: executable_path has been deprecated, please pass in a Service object\n",
      "  driver = webdriver.Chrome(ChromeDriverManager().install())\n"
     ]
    }
   ],
   "source": [
    "from webdriver_manager.chrome import ChromeDriverManager\n",
    "from selenium import webdriver\n",
    "\n",
    "driver = webdriver.Chrome(ChromeDriverManager().install())\n",
    "\n",
    "driver.get(url='https://www.ppomppu.co.kr/zboard/zboard.php?id=ppomppu')\n",
    "\n",
    "driver.implicitly_wait(time_to_wait=10)"
   ]
  },
  {
   "cell_type": "code",
   "execution_count": 2,
   "metadata": {},
   "outputs": [
    {
     "name": "stdout",
     "output_type": "stream",
     "text": [
      "[11번가]매일두유 190ml 24팩(13800/0)\n",
      "https://www.ppomppu.co.kr/zboard/view.php?id=ppomppu&page=1&divpage=74&no=434755\n",
      "[큐텐 노리베이트] QCY GTC 스마트워치 (35,160/무료배송)\n",
      "https://www.ppomppu.co.kr/zboard/view.php?id=ppomppu&page=1&divpage=74&no=434754\n",
      "[한샘몰] 샘키즈 수납장 1305 뉴트럴베이지 (149,900/무배)\n",
      "https://www.ppomppu.co.kr/zboard/view.php?id=ppomppu&page=1&divpage=74&no=434753\n",
      "[쿠팡] 빠삐코 130ml 35개 와우전용 (12140원/무료)\n",
      "https://www.ppomppu.co.kr/zboard/view.php?id=ppomppu&page=1&divpage=74&no=434752\n",
      "[11번가] 스탠리x스타벅스 텀블러 591mm [15,940/2500]\n",
      "https://www.ppomppu.co.kr/zboard/view.php?id=ppomppu&page=1&divpage=74&no=434751\n",
      "[11번가]쿠첸 초음파 가습기 (69,800/무료)\n",
      "https://www.ppomppu.co.kr/zboard/view.php?id=ppomppu&page=1&divpage=74&no=434750\n",
      "[티몬] 1+1 페이스6 면도기획세트 2호 (39,200원/무료)\n",
      "https://www.ppomppu.co.kr/zboard/view.php?id=ppomppu&page=1&divpage=74&no=434749\n",
      "[큐텐]QCY GTC 스마트워치/1.85인치 스크린/100+시계페이스/혈산소검측/IP68방수/15일 대기/2022년 신형/무료 배송(35,160)\n",
      "https://www.ppomppu.co.kr/zboard/view.php?id=ppomppu&page=1&divpage=74&no=434748\n",
      "[티몬] 마스크 소형 100+100매 장당 95원 (18,990/무료)\n",
      "https://www.ppomppu.co.kr/zboard/view.php?id=ppomppu&page=1&divpage=74&no=434747\n",
      "[티몬] 수향미 10kg+10kg (41,900/신한39,900/무료)\n",
      "https://www.ppomppu.co.kr/zboard/view.php?id=ppomppu&page=1&divpage=74&no=434746\n",
      "[11번가 앱] 언더아머 남성 러닝화 39,340원\n",
      "https://www.ppomppu.co.kr/zboard/view.php?id=ppomppu&page=1&divpage=74&no=434745\n",
      "[보고] 크리넥스 울트라 클린 3겹 화장지 27m 30롤x2팩 (23,900원/무료)\n",
      "https://www.ppomppu.co.kr/zboard/view.php?id=ppomppu&page=1&divpage=74&no=434744\n",
      "로보락 S7 maxV Plus (1,032,380원/무배)\n",
      "https://www.ppomppu.co.kr/zboard/view.php?id=ppomppu&page=1&divpage=74&no=434743\n",
      "[스팀] 문명6 (9,750원)\n",
      "https://www.ppomppu.co.kr/zboard/view.php?id=ppomppu&page=1&divpage=74&no=434742\n",
      "[코크플레이] 코카콜라 제로 355ml x 24캔 (페이코 16,310원/무배)\n",
      "https://www.ppomppu.co.kr/zboard/view.php?id=ppomppu&page=1&divpage=74&no=434741\n",
      "[네이버] 국내산 숫꽃게 2kg (19,000원/3,000원)\n",
      "https://www.ppomppu.co.kr/zboard/view.php?id=ppomppu&page=1&divpage=74&no=434740\n",
      "[우주패스올 1년권] 플로 음악감상 12개월(49,500원)\n",
      "https://www.ppomppu.co.kr/zboard/view.php?id=ppomppu&page=1&divpage=74&no=434739\n",
      "[네이버 끌올] 더 미식 즉석밥 24개 + 유니자장 1개(18,900원/무료)\n",
      "https://www.ppomppu.co.kr/zboard/view.php?id=ppomppu&page=1&divpage=74&no=434738\n",
      "[G마켓]크록스 라이트라이드 클로그 204592-05M(42,780/무료)\n",
      "https://www.ppomppu.co.kr/zboard/view.php?id=ppomppu&page=1&divpage=74&no=434737\n",
      "[티몬]HACCP인증 촉촉한 구운란 중란 60구(9,900/무배)\n",
      "https://www.ppomppu.co.kr/zboard/view.php?id=ppomppu&page=1&divpage=74&no=434736\n",
      "[11번가]Z플립4 256,Z폴드4 19% / Z플립4 512 22% 할인[25일 하루특가][+신세계 상품권 1만원 증정]\n",
      "https://www.ppomppu.co.kr/zboard/view.php?id=pmarket&&no=279834\n",
      "[11번가] 삼성슈퍼세일 삼성노트북 역대급 할인행사 11번가 하루특가 시선집중 60만원 할인&사은품증정\n",
      "https://www.ppomppu.co.kr/zboard/view.php?id=pmarket&&no=279829\n",
      "[컴퓨존] 브리츠 무선충전 알람시계 특가 23,900원!\n",
      "https://www.ppomppu.co.kr/zboard/view.php?id=pmarket&&no=279830\n",
      "[네이버] 무농약 인증! 해남 꿀고구마 한입 3kg 7,900원/무료배송\n",
      "https://www.ppomppu.co.kr/zboard/view.php?id=pmarket&&no=279835\n",
      "카시오 남성시계 블랙 레진 스트랩 42mm MTPS110-2AV (128,218원)\n",
      "https://www.ppomppu.co.kr/hotdeal/?no=23922064\n",
      "실내 건조대 추천 부탁드립니다.\n",
      "https://www.ppomppu.co.kr/zboard/view.php?id=social&no=34689\n",
      "저렴한 지성용 샴푸 없을까요?\n",
      "https://www.ppomppu.co.kr/zboard/view.php?id=social&no=34687\n",
      "[힙합퍼] 아이들 신발 가방 9900원 무배에요 (수페르가 스케쳐스 등)\n",
      "https://www.ppomppu.co.kr/zboard/view.php?id=social&no=34685\n"
     ]
    }
   ],
   "source": [
    "from selenium.webdriver.common.by import By\n",
    "\n",
    "titles = driver.find_elements(By.CSS_SELECTOR, '#revolution_main_table > tbody > tr > td:nth-child(3) > table > tbody > tr > td:nth-child(2) > div > a > font')\n",
    "\n",
    "urls = driver.find_elements(By.CSS_SELECTOR, '#revolution_main_table > tbody > tr > td:nth-child(3) > table > tbody > tr > td:nth-child(2) > div > a')\n",
    "\n",
    "for i in range(len(titles)):\n",
    "    print(titles[i].text)\n",
    "    print(urls[i].get_attribute('href'))\n",
    "\n",
    "\n",
    "\n"
   ]
  },
  {
   "cell_type": "code",
   "execution_count": 4,
   "metadata": {},
   "outputs": [
    {
     "name": "stdout",
     "output_type": "stream",
     "text": [
      "[11번가]매일두유 190ml 24팩(13800/0)https://www.ppomppu.co.kr/zboard/view.php?id=ppomppu&page=1&divpage=74&no=434755\n"
     ]
    }
   ],
   "source": [
    "import telegram\n",
    "message = ''\n",
    "for i in range(len(titles)):\n",
    "    if '두유' in titles[i].text:\n",
    "        message = titles[i].text + urls[i].get_attribute('href')\n",
    "        print(message)\n",
    "        token = '봇 api 토큰 입력' \n",
    "        id = '채팅방 고유 id 입력'\n",
    "        bot = telegram.Bot(token)\n",
    "        bot.sendMessage(chat_id=id, text=message)\n"
   ]
  }
 ],
 "metadata": {
  "interpreter": {
   "hash": "5d240ba0dc525c389faa33f5dcce5b4f32b6d6aa6d70d6d2dd929bd2b09ab69f"
  },
  "kernelspec": {
   "display_name": "Python 3.10.4 64-bit",
   "language": "python",
   "name": "python3"
  },
  "language_info": {
   "codemirror_mode": {
    "name": "ipython",
    "version": 3
   },
   "file_extension": ".py",
   "mimetype": "text/x-python",
   "name": "python",
   "nbconvert_exporter": "python",
   "pygments_lexer": "ipython3",
   "version": "3.10.4"
  },
  "orig_nbformat": 4
 },
 "nbformat": 4,
 "nbformat_minor": 2
}
