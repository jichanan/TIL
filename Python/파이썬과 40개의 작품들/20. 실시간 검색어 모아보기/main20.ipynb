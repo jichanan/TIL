{
 "cells": [
  {
   "cell_type": "code",
   "execution_count": 6,
   "metadata": {},
   "outputs": [
    {
     "name": "stderr",
     "output_type": "stream",
     "text": [
      "C:\\Users\\user\\AppData\\Local\\Temp\\ipykernel_17832\\2258514220.py:4: DeprecationWarning: executable_path has been deprecated, please pass in a Service object\n",
      "  driver = webdriver.Chrome(ChromeDriverManager().install())\n"
     ]
    }
   ],
   "source": [
    "from webdriver_manager.chrome import ChromeDriverManager\n",
    "from selenium import webdriver\n",
    "\n",
    "driver = webdriver.Chrome(ChromeDriverManager().install())\n",
    "\n",
    "URL = 'https://www.google.co.kr'\n",
    "driver.get(url=URL)\n",
    "driver.implicitly_wait(time_to_wait=10)"
   ]
  },
  {
   "cell_type": "code",
   "execution_count": 12,
   "metadata": {},
   "outputs": [
    {
     "name": "stdout",
     "output_type": "stream",
     "text": [
      "이명박 전 대통령\n",
      "9시까지 확진 2만\n",
      "대통령실 바이든 아닌\n",
      "스토킹에 영장 기각\n",
      "코스타리카와 2-2 무승부\n",
      "리아킴 아스퍼거 증후군\n",
      "건보공단 46억원 횡령\n",
      "\n",
      "\n",
      "\n"
     ]
    }
   ],
   "source": [
    "from selenium.webdriver.common.by import By\n",
    "\n",
    "URL = 'https://www.nate.com'\n",
    "driver.get(url = URL)\n",
    "driver.implicitly_wait(time_to_wait=10)\n",
    "\n",
    "driver.find_element(By.CSS_SELECTOR, '#olLiveIssueKeyword > li:nth-child(1) > a > span.txt_rank').click()\n",
    "\n",
    "nate_results = driver.find_elements(By.CSS_SELECTOR, '#search-option > form:nth-child(1) > fieldset > div.issue-kwd > span > a')\n",
    "\n",
    "\n",
    "nate_list = []\n",
    "\n",
    "for nate_result in nate_results:\n",
    "    print(nate_result.text)\n",
    "    nate_list.append(nate_result.text)\n",
    "\n",
    "\n"
   ]
  },
  {
   "cell_type": "code",
   "execution_count": 14,
   "metadata": {},
   "outputs": [
    {
     "name": "stdout",
     "output_type": "stream",
     "text": [
      "천원짜리 변호사\n",
      "축구 국가대표 평가전\n",
      "금수저\n",
      "손흥민\n",
      "김태형\n",
      "송가인\n",
      "이재명\n",
      "아이유\n",
      "50대 여배우\n",
      "윤석열\n"
     ]
    }
   ],
   "source": [
    "import time\n",
    "\n",
    "URL = 'https://zum.com'\n",
    "driver.get(url = URL)\n",
    "driver.implicitly_wait(time_to_wait=10)\n",
    "\n",
    "driver.find_element(By.CSS_SELECTOR, '#search-input').send_keys('아무거나 검색')\n",
    "time.sleep(0.5)\n",
    "\n",
    "driver.find_element(By.CSS_SELECTOR, '#app > div > header > div.search_bar > div > fieldset > div > button.search').click()\n",
    "time.sleep(1)\n",
    "\n",
    "zoom_results = driver.find_elements(By.CSS_SELECTOR, '#issue_wrap > ul > li > div > a:nth-child(1) > span.txt')\n",
    "\n",
    "zoom_list = []\n",
    "for zoom_result in zoom_results:\n",
    "    print(zoom_result.text)\n",
    "    zoom_list.append(zoom_result.text)\n",
    "\n"
   ]
  },
  {
   "cell_type": "code",
   "execution_count": 15,
   "metadata": {},
   "outputs": [
    {
     "name": "stdout",
     "output_type": "stream",
     "text": [
      "네이트 ['이명박 전 대통령', '9시까지 확진 2만', '대통령실 바이든 아닌', '스토킹에 영장 기각', '코스타리카와 2-2 무승부', '리아킴 아스퍼거 증후군', '건보공단 46억원 횡령', '', '', '']\n",
      "줌 ['천원짜리 변호사', '축구 국가대표 평가전', '금수저', '손흥민', '김태형', '송가인', '이재명', '아이유', '50대 여배우', '윤석열']\n"
     ]
    }
   ],
   "source": [
    "print('네이트', nate_list)\n",
    "print('줌', zoom_list)"
   ]
  }
 ],
 "metadata": {
  "interpreter": {
   "hash": "5d240ba0dc525c389faa33f5dcce5b4f32b6d6aa6d70d6d2dd929bd2b09ab69f"
  },
  "kernelspec": {
   "display_name": "Python 3.10.4 64-bit",
   "language": "python",
   "name": "python3"
  },
  "language_info": {
   "codemirror_mode": {
    "name": "ipython",
    "version": 3
   },
   "file_extension": ".py",
   "mimetype": "text/x-python",
   "name": "python",
   "nbconvert_exporter": "python",
   "pygments_lexer": "ipython3",
   "version": "3.10.4"
  },
  "orig_nbformat": 4
 },
 "nbformat": 4,
 "nbformat_minor": 2
}
